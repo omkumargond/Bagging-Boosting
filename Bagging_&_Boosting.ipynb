{
  "nbformat": 4,
  "nbformat_minor": 0,
  "metadata": {
    "colab": {
      "provenance": []
    },
    "kernelspec": {
      "name": "python3",
      "display_name": "Python 3"
    },
    "language_info": {
      "name": "python"
    }
  },
  "cells": [
    {
      "cell_type": "markdown",
      "source": [
        "Question 1: What is Boosting in Machine Learning? Explain how it improves weak\n",
        "learners.\n",
        "- Answer- Boosting turns weak learners into a strong model by reducing bias and variance through iterative error correction.\n",
        "\n",
        "Question 2: What is the difference between AdaBoost and Gradient Boosting in terms of how models are trained?\n",
        "- Answer- AdaBoost reweights samples, Gradient Boosting reduces loss via gradients.\n",
        "\n",
        "Question 3: How does regularization help in XGBoost?\n",
        "- Answer- Regularization in XGBoost ensures simpler, more generalizable models by penalizing overly complex trees.\n",
        "\n",
        "Question 4: Why is CatBoost considered efficient for handling categorical data?\n",
        "- Answer- CatBoost directly handles categorical features efficiently, reducing preprocessing and overfitting.\n",
        "\n",
        "Question 5: What are some real-world applications where boosting techniques are\n",
        "preferred over bagging methods?\n",
        "- Answer-  Boosting is favored in domains needing precise predictions and handling subtle patterns.\n",
        "\n",
        "\n",
        "\n"
      ],
      "metadata": {
        "id": "vvTB9pLW5Mvg"
      }
    },
    {
      "cell_type": "code",
      "source": [
        "#Question 6: Write a Python program to:\n",
        "#● Train an AdaBoost Classifier on the Breast Cancer dataset\n",
        "#● Print the model accuracy\n",
        "'''\n",
        "from sklearn.datasets import load_breast_cancer\n",
        "from sklearn.ensemble import AdaBoostClassifier\n",
        "from sklearn.model_selection import train_test_split\n",
        "from sklearn.metrics import accuracy_score\n",
        "\n",
        "# Load dataset\n",
        "X, y = load_breast_cancer(return_X_y=True)\n",
        "\n",
        "# Train-test split\n",
        "X_train, X_test, y_train, y_test = train_test_split(X, y, test_size=0.2, random_state=42)\n",
        "\n",
        "# Train AdaBoost\n",
        "model = AdaBoostClassifier(n_estimators=100, random_state=42)\n",
        "model.fit(X_train, y_train)\n",
        "\n",
        "# Evaluate\n",
        "y_pred = model.predict(X_test)\n",
        "print(\"Accuracy:\", accuracy_score(y_test, y_pred))\n",
        "\n",
        "'''\n"
      ],
      "metadata": {
        "colab": {
          "base_uri": "https://localhost:8080/",
          "height": 87
        },
        "id": "S9gq6cmV7sTZ",
        "outputId": "a11e0671-06cc-4df9-f6f6-999cd04b67a3"
      },
      "execution_count": 1,
      "outputs": [
        {
          "output_type": "execute_result",
          "data": {
            "text/plain": [
              "'\\nfrom sklearn.datasets import load_breast_cancer\\nfrom sklearn.ensemble import AdaBoostClassifier\\nfrom sklearn.model_selection import train_test_split\\nfrom sklearn.metrics import accuracy_score\\n\\n# Load dataset\\nX, y = load_breast_cancer(return_X_y=True)\\n\\n# Train-test split\\nX_train, X_test, y_train, y_test = train_test_split(X, y, test_size=0.2, random_state=42)\\n\\n# Train AdaBoost\\nmodel = AdaBoostClassifier(n_estimators=100, random_state=42)\\nmodel.fit(X_train, y_train)\\n\\n# Evaluate\\ny_pred = model.predict(X_test)\\nprint(\"Accuracy:\", accuracy_score(y_test, y_pred))\\n\\n'"
            ],
            "application/vnd.google.colaboratory.intrinsic+json": {
              "type": "string"
            }
          },
          "metadata": {},
          "execution_count": 1
        }
      ]
    },
    {
      "cell_type": "code",
      "source": [
        "#Question 7: Write a Python program to:\n",
        "#● Train a Gradient Boosting Regressor on the California Housing dataset\n",
        "#● Evaluate performance using R-squared score\n",
        "'''\n",
        "from sklearn.datasets import fetch_california_housing\n",
        "from sklearn.ensemble import GradientBoostingRegressor\n",
        "from sklearn.model_selection import train_test_split\n",
        "from sklearn.metrics import r2_score\n",
        "\n",
        "# Load dataset\n",
        "X, y = fetch_california_housing(return_X_y=True)\n",
        "\n",
        "# Train-test split\n",
        "X_train, X_test, y_train, y_test = train_test_split(X, y, test_size=0.2, random_state=42)\n",
        "\n",
        "# Train Gradient Boosting Regressor\n",
        "model = GradientBoostingRegressor(n_estimators=100, random_state=42)\n",
        "model.fit(X_train, y_train)\n",
        "\n",
        "# Evaluate\n",
        "y_pred = model.predict(X_test)\n",
        "print(\"R2 Score:\", r2_score(y_test, y_pred))\n",
        "\n",
        "'''\n"
      ],
      "metadata": {
        "colab": {
          "base_uri": "https://localhost:8080/",
          "height": 87
        },
        "id": "PFbSBf0e7-A1",
        "outputId": "d4835c59-d39b-48d9-9044-9e5619d09e7a"
      },
      "execution_count": 2,
      "outputs": [
        {
          "output_type": "execute_result",
          "data": {
            "text/plain": [
              "'\\nfrom sklearn.datasets import fetch_california_housing\\nfrom sklearn.ensemble import GradientBoostingRegressor\\nfrom sklearn.model_selection import train_test_split\\nfrom sklearn.metrics import r2_score\\n\\n# Load dataset\\nX, y = fetch_california_housing(return_X_y=True)\\n\\n# Train-test split\\nX_train, X_test, y_train, y_test = train_test_split(X, y, test_size=0.2, random_state=42)\\n\\n# Train Gradient Boosting Regressor\\nmodel = GradientBoostingRegressor(n_estimators=100, random_state=42)\\nmodel.fit(X_train, y_train)\\n\\n# Evaluate\\ny_pred = model.predict(X_test)\\nprint(\"R2 Score:\", r2_score(y_test, y_pred))\\n\\n'"
            ],
            "application/vnd.google.colaboratory.intrinsic+json": {
              "type": "string"
            }
          },
          "metadata": {},
          "execution_count": 2
        }
      ]
    },
    {
      "cell_type": "code",
      "source": [
        "#Question 8: Write a Python program to:\n",
        "#● Train an XGBoost Classifier on the Breast Cancer dataset\n",
        "#● Tune the learning rate using GridSearchCV\n",
        "#● Print the best parameters and accuracy\n",
        "'''\n",
        "from sklearn.datasets import fetch_california_housing\n",
        "from sklearn.ensemble import GradientBoostingRegressor\n",
        "from sklearn.model_selection import train_test_split\n",
        "from sklearn.metrics import r2_score\n",
        "\n",
        "# Load dataset\n",
        "X, y = fetch_california_housing(return_X_y=True)\n",
        "\n",
        "# Train-test split\n",
        "X_train, X_test, y_train, y_test = train_test_split(X, y, test_size=0.2, random_state=42)\n",
        "\n",
        "# Train Gradient Boosting Regressor\n",
        "model = GradientBoostingRegressor(n_estimators=100, random_state=42)\n",
        "model.fit(X_train, y_train)\n",
        "\n",
        "# Evaluate\n",
        "y_pred = model.predict(X_test)\n",
        "print(\"R2 Score:\", r2_score(y_test, y_pred))\n",
        "\n",
        "'''\n"
      ],
      "metadata": {
        "colab": {
          "base_uri": "https://localhost:8080/",
          "height": 87
        },
        "id": "TdTq-n_i8L29",
        "outputId": "2d53d9ef-86fe-4e08-805c-6f05306f0140"
      },
      "execution_count": 3,
      "outputs": [
        {
          "output_type": "execute_result",
          "data": {
            "text/plain": [
              "'\\nfrom sklearn.datasets import fetch_california_housing\\nfrom sklearn.ensemble import GradientBoostingRegressor\\nfrom sklearn.model_selection import train_test_split\\nfrom sklearn.metrics import r2_score\\n\\n# Load dataset\\nX, y = fetch_california_housing(return_X_y=True)\\n\\n# Train-test split\\nX_train, X_test, y_train, y_test = train_test_split(X, y, test_size=0.2, random_state=42)\\n\\n# Train Gradient Boosting Regressor\\nmodel = GradientBoostingRegressor(n_estimators=100, random_state=42)\\nmodel.fit(X_train, y_train)\\n\\n# Evaluate\\ny_pred = model.predict(X_test)\\nprint(\"R2 Score:\", r2_score(y_test, y_pred))\\n\\n'"
            ],
            "application/vnd.google.colaboratory.intrinsic+json": {
              "type": "string"
            }
          },
          "metadata": {},
          "execution_count": 3
        }
      ]
    },
    {
      "cell_type": "code",
      "source": [
        "#Question 9: Write a Python program to:\n",
        "#● Train a CatBoost Classifier\n",
        "#● Plot the confusion matrix using seaborn\n",
        "'''\n",
        "from sklearn.datasets import load_breast_cancer\n",
        "from sklearn.model_selection import train_test_split\n",
        "from sklearn.metrics import confusion_matrix\n",
        "import seaborn as sns\n",
        "import matplotlib.pyplot as plt\n",
        "from catboost import CatBoostClassifier\n",
        "\n",
        "# Load dataset\n",
        "X, y = load_breast_cancer(return_X_y=True)\n",
        "X_train, X_test, y_train, y_test = train_test_split(X, y, test_size=0.2, random_state=42)\n",
        "\n",
        "# Train CatBoost\n",
        "model = CatBoostClassifier(iterations=200, verbose=0, random_state=42)\n",
        "model.fit(X_train, y_train)\n",
        "\n",
        "# Predictions\n",
        "y_pred = model.predict(X_test)\n",
        "\n",
        "# Confusion matrix\n",
        "cm = confusion_matrix(y_test, y_pred)\n",
        "\n",
        "# Plot\n",
        "sns.heatmap(cm, annot=True, fmt=\"d\", cmap=\"Blues\", xticklabels=[\"Malignant\",\"Benign\"], yticklabels=[\"Malignant\",\"Benign\"])\n",
        "plt.xlabel(\"Predicted\")\n",
        "plt.ylabel(\"Actual\")\n",
        "plt.title(\"Confusion Matrix - CatBoost Classifier\")\n",
        "plt.show()\n",
        "\n",
        "'''"
      ],
      "metadata": {
        "colab": {
          "base_uri": "https://localhost:8080/",
          "height": 122
        },
        "id": "LYP9WJvM8W2q",
        "outputId": "a356316d-eb04-4485-d37b-a9f113c311e0"
      },
      "execution_count": 4,
      "outputs": [
        {
          "output_type": "execute_result",
          "data": {
            "text/plain": [
              "'\\nfrom sklearn.datasets import load_breast_cancer\\nfrom sklearn.model_selection import train_test_split\\nfrom sklearn.metrics import confusion_matrix\\nimport seaborn as sns\\nimport matplotlib.pyplot as plt\\nfrom catboost import CatBoostClassifier\\n\\n# Load dataset\\nX, y = load_breast_cancer(return_X_y=True)\\nX_train, X_test, y_train, y_test = train_test_split(X, y, test_size=0.2, random_state=42)\\n\\n# Train CatBoost\\nmodel = CatBoostClassifier(iterations=200, verbose=0, random_state=42)\\nmodel.fit(X_train, y_train)\\n\\n# Predictions\\ny_pred = model.predict(X_test)\\n\\n# Confusion matrix\\ncm = confusion_matrix(y_test, y_pred)\\n\\n# Plot\\nsns.heatmap(cm, annot=True, fmt=\"d\", cmap=\"Blues\", xticklabels=[\"Malignant\",\"Benign\"], yticklabels=[\"Malignant\",\"Benign\"])\\nplt.xlabel(\"Predicted\")\\nplt.ylabel(\"Actual\")\\nplt.title(\"Confusion Matrix - CatBoost Classifier\")\\nplt.show()\\n\\n'"
            ],
            "application/vnd.google.colaboratory.intrinsic+json": {
              "type": "string"
            }
          },
          "metadata": {},
          "execution_count": 4
        }
      ]
    },
    {
      "cell_type": "markdown",
      "source": [
        "Question 10: You're working for a FinTech company trying to predict loan default using\n",
        "customer demographics and transaction behavior.\n",
        "The dataset is imbalanced, contains missing values, and has both numeric and\n",
        "categorical features.\n",
        "Describe your step-by-step data science pipeline using boosting techniques:\n",
        "● Data preprocessing & handling missing/categorical values\n",
        "● Choice between AdaBoost, XGBoost, or CatBoost\n",
        "● Hyperparameter tuning strategy\n",
        "● Evaluation metrics you'd choose and why\n",
        "● How the business would benefit from your model\n",
        "- Answer- Preprocessing: Impute missing (mean/mode), handle imbalance (SMOTE/class weights), CatBoost for categorical features.\n",
        "\n",
        "Model Choice: Prefer CatBoost (many categorical) or XGBoost (numeric-heavy).\n",
        "\n",
        "Tuning: Tune n_estimators, learning_rate, max_depth, subsample, regularization using Grid/Random search.\n",
        "\n",
        "Metrics: Use F1-score, AUC-ROC, Precision-Recall (better for imbalance than accuracy).\n",
        "\n",
        "Business Value: Reduce defaults, improve risk profiling, save costs, and build customer trust."
      ],
      "metadata": {
        "id": "bXBMfF31-KOB"
      }
    },
    {
      "cell_type": "code",
      "source": [
        "'''\n",
        "from catboost import CatBoostClassifier\n",
        "from sklearn.model_selection import train_test_split, RandomizedSearchCV\n",
        "from sklearn.metrics import classification_report, roc_auc_score\n",
        "from imblearn.over_sampling import SMOTE\n",
        "import pandas as pd\n",
        "\n",
        "# Example dataset (replace with loan data)\n",
        "df = pd.read_csv(\"loan_data.csv\")\n",
        "\n",
        "# Handle missing values\n",
        "df.fillna(df.median(numeric_only=True), inplace=True)\n",
        "df.fillna(\"Unknown\", inplace=True)\n",
        "\n",
        "X = df.drop(\"default\", axis=1)\n",
        "y = df[\"default\"]\n",
        "\n",
        "# Handle imbalance\n",
        "X_res, y_res = SMOTE().fit_resample(X, y)\n",
        "\n",
        "# Train-test split\n",
        "X_train, X_test, y_train, y_test = train_test_split(X_res, y_res, test_size=0.2, random_state=42)\n",
        "\n",
        "# CatBoost Classifier\n",
        "model = CatBoostClassifier(verbose=0, random_state=42)\n",
        "model.fit(X_train, y_train)\n",
        "\n",
        "# Predictions & Evaluation\n",
        "y_pred = model.predict(X_test)\n",
        "print(classification_report(y_test, y_pred))\n",
        "print(\"AUC-ROC:\", roc_auc_score(y_test, model.predict_proba(X_test)[:,1]))\n",
        "\n",
        "'''"
      ],
      "metadata": {
        "colab": {
          "base_uri": "https://localhost:8080/",
          "height": 140
        },
        "id": "WvO_dLJh-ZYf",
        "outputId": "fb3a9448-2db3-470c-db18-a0beb600256b"
      },
      "execution_count": 6,
      "outputs": [
        {
          "output_type": "execute_result",
          "data": {
            "text/plain": [
              "'\\nfrom catboost import CatBoostClassifier\\nfrom sklearn.model_selection import train_test_split, RandomizedSearchCV\\nfrom sklearn.metrics import classification_report, roc_auc_score\\nfrom imblearn.over_sampling import SMOTE\\nimport pandas as pd\\n\\n# Example dataset (replace with loan data)\\ndf = pd.read_csv(\"loan_data.csv\")  \\n\\n# Handle missing values\\ndf.fillna(df.median(numeric_only=True), inplace=True)\\ndf.fillna(\"Unknown\", inplace=True)\\n\\nX = df.drop(\"default\", axis=1)\\ny = df[\"default\"]\\n\\n# Handle imbalance\\nX_res, y_res = SMOTE().fit_resample(X, y)\\n\\n# Train-test split\\nX_train, X_test, y_train, y_test = train_test_split(X_res, y_res, test_size=0.2, random_state=42)\\n\\n# CatBoost Classifier\\nmodel = CatBoostClassifier(verbose=0, random_state=42)\\nmodel.fit(X_train, y_train)\\n\\n# Predictions & Evaluation\\ny_pred = model.predict(X_test)\\nprint(classification_report(y_test, y_pred))\\nprint(\"AUC-ROC:\", roc_auc_score(y_test, model.predict_proba(X_test)[:,1]))\\n\\n'"
            ],
            "application/vnd.google.colaboratory.intrinsic+json": {
              "type": "string"
            }
          },
          "metadata": {},
          "execution_count": 6
        }
      ]
    },
    {
      "cell_type": "code",
      "source": [],
      "metadata": {
        "id": "-wdBZ1kU-ecm"
      },
      "execution_count": null,
      "outputs": []
    }
  ]
}